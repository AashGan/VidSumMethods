{
 "cells": [
  {
   "cell_type": "markdown",
   "metadata": {},
   "source": [
    "Notebook to demonstrate the performance differences between both algorithmic approaches "
   ]
  },
  {
   "cell_type": "code",
   "execution_count": null,
   "metadata": {},
   "outputs": [],
   "source": [
    "import time\n",
    "import numpy as np\n",
    "import numpy.linalg as LA\n",
    "from Utils import kts,kts_cupy\n",
    "import cupy as cnp\n",
    "import matplotlib.pyplot as plt\n",
    "lengths = [100,500,1000,2000,4000,6000,8000,10000,12000,14000]"
   ]
  },
  {
   "cell_type": "code",
   "execution_count": null,
   "metadata": {},
   "outputs": [],
   "source": [
    "kts_cupy_times = []\n",
    "#cnp.cuda.runtime.setDevice(1)\n",
    "for length in lengths:\n",
    "  print(f'Run :{length}')\n",
    "  test_features = [feature/LA.norm(feature) for feature in np.random.normal(size = (length,500))]\n",
    "  start = time.time()\n",
    "  cps,_,_ = kts_cupy(length,np.array(test_features),vmax = 2.5)\n",
    "  end = time.time()\n",
    "  print(f'Time taken = {end - start}')\n",
    "\n",
    "  kts_cupy_times.append(end-start)"
   ]
  },
  {
   "cell_type": "code",
   "execution_count": null,
   "metadata": {},
   "outputs": [],
   "source": [
    "kts_times = []\n",
    "for length in lengths:\n",
    "  test_features = [feature/LA.norm(feature) for feature in np.random.normal(size = (length,500))]\n",
    "  start = time.time()\n",
    "  cps,_,_ = kts(length,np.array(test_features),vmax = 2.5)\n",
    "  end = time.time()\n",
    "  print(f'Time taken = {end - start}')\n",
    "  kts_times.append(end-start)"
   ]
  },
  {
   "cell_type": "code",
   "execution_count": null,
   "metadata": {},
   "outputs": [],
   "source": [
    "plt.plot(lengths,kts_cupy_times,'o--',label = 'Our Implementation')\n",
    "plt.plot(lengths,kts_times,'^k:',label = 'Public Implementation')\n",
    "plt.title('Comparison between the time taken by each implementation')\n",
    "plt.xlabel('Length of the sequence')\n",
    "plt.ylabel('Time taken in seconds')\n",
    "plt.legend()\n",
    "plt.show()"
   ]
  }
 ],
 "metadata": {
  "language_info": {
   "name": "python"
  }
 },
 "nbformat": 4,
 "nbformat_minor": 2
}
