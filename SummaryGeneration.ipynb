{
 "cells": [
  {
   "cell_type": "markdown",
   "metadata": {},
   "source": [
    "# Notebook to visualize the summaries created by different shot boundaries\n",
    "\n",
    "This notebook can be used to visualize the resulting suimmaries given a set of different parameters in each of the dataset\n",
    "\n"
   ]
  },
  {
   "cell_type": "code",
   "execution_count": null,
   "metadata": {},
   "outputs": [],
   "source": [
    "import h5py\n",
    "from Utils import calculate_metrics,generate_summary_single,write_video_from_indices\n",
    "import os \n",
    "import numpy as np\n",
    "import json "
   ]
  },
  {
   "cell_type": "code",
   "execution_count": null,
   "metadata": {},
   "outputs": [],
   "source": [
    "\n",
    "def g(seq):\n",
    "    # http://stackoverflow.com/questions/3382352/equivalent-of-numpy-argsort-in-basic-python/3383106#3383106\n",
    "    #lambda version by Tony Veijalainen\n",
    "    return [x for x,y in sorted(enumerate(seq), key = lambda x: x[1])]\n",
    "\n",
    "tvsum_dataset = h5py.File('Data/original/googlenet_tvsum.h5')\n",
    "\n",
    "lengths  = [(tvsum_dataset[key]['n_frames'][...].item()) for key in list(tvsum_dataset.keys())]\n",
    "indices =g(lengths)\n",
    "dataset_keys = list(tvsum_dataset.keys())\n"
   ]
  },
  {
   "cell_type": "code",
   "execution_count": null,
   "metadata": {},
   "outputs": [],
   "source": [
    "densenet_shot_boundaries = json.load(open('Results/kts/autoshot/Shot_Boundaries_summe_googlenet_1.json','r'))\n",
    "resnet_shot_boundaries = json.load(open('Results/kts/autoshot/Shot_Boundaries_summe_resnet_1.json','r'))\n",
    "googlenet_shot_boundaries =json.load(open('Results/kts/autoshot/Shot_Boundaries_summe_densenet_1.json','r'))"
   ]
  },
  {
   "cell_type": "code",
   "execution_count": 7,
   "metadata": {},
   "outputs": [],
   "source": [
    "index = 12\n",
    "gtscore = tvsum_dataset[dataset_keys[indices[index]]]['gtscore'][...]\n",
    "picks  = tvsum_dataset[dataset_keys[indices[index]]]['picks'][...]\n",
    "n_frame = tvsum_dataset[dataset_keys[indices[index]]]['n_frames'][...]"
   ]
  },
  {
   "cell_type": "code",
   "execution_count": 8,
   "metadata": {},
   "outputs": [],
   "source": [
    "shot_boundary_1 = generate_summary_single(googlenet_shot_boundaries[index],gtscore,n_frames = n_frame,positions=picks)\n",
    "shot_boundary_2 = generate_summary_single(resnet_shot_boundaries[index],gtscore,n_frames = n_frame,positions=picks)"
   ]
  },
  {
   "cell_type": "code",
   "execution_count": 29,
   "metadata": {},
   "outputs": [],
   "source": [
    "indices_2 = np.where(shot_boundary_2==1)[0]"
   ]
  },
  {
   "cell_type": "code",
   "execution_count": 30,
   "metadata": {},
   "outputs": [
    {
     "data": {
      "text/plain": [
       "'video_47'"
      ]
     },
     "execution_count": 30,
     "metadata": {},
     "output_type": "execute_result"
    }
   ],
   "source": [
    "dataset_keys[indices[index]]"
   ]
  },
  {
   "cell_type": "code",
   "execution_count": 31,
   "metadata": {},
   "outputs": [
    {
     "name": "stdout",
     "output_type": "stream",
     "text": [
      "(480, 360)\n",
      "result saved at: result_test.avi\n"
     ]
    }
   ],
   "source": [
    "write_video_from_indices(f'C:\\\\Datasets\\\\tvsum\\\\{dataset_keys[indices[index]]}.mp4',indices_2,'result_test')"
   ]
  }
 ],
 "metadata": {
  "kernelspec": {
   "display_name": "venv",
   "language": "python",
   "name": "python3"
  },
  "language_info": {
   "codemirror_mode": {
    "name": "ipython",
    "version": 3
   },
   "file_extension": ".py",
   "mimetype": "text/x-python",
   "name": "python",
   "nbconvert_exporter": "python",
   "pygments_lexer": "ipython3",
   "version": "3.10.0"
  }
 },
 "nbformat": 4,
 "nbformat_minor": 2
}
