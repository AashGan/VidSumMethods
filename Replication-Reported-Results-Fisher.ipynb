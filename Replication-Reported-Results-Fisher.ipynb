{
 "cells": [
  {
   "cell_type": "code",
   "execution_count": 8,
   "metadata": {},
   "outputs": [],
   "source": [
    "import h5py\n",
    "from Utils import calculate_metrics\n",
    "import numpy as np\n",
    "import json\n"
   ]
  },
  {
   "cell_type": "code",
   "execution_count": 9,
   "metadata": {},
   "outputs": [],
   "source": [
    "def g(seq):\n",
    "    # http://stackoverflow.com/questions/3382352/equivalent-of-numpy-argsort-in-basic-python/3383106#3383106\n",
    "    #lambda version by Tony Veijalainen\n",
    "    return [x for x,y in sorted(enumerate(seq), key = lambda x: x[1])]"
   ]
  },
  {
   "cell_type": "code",
   "execution_count": 15,
   "metadata": {},
   "outputs": [
    {
     "name": "stdout",
     "output_type": "stream",
     "text": [
      "Fisher average f1 : 0.031326533496972335\n",
      "Fisher 0.8 average f1 : 0.031326533496972335\n",
      "Fisher 0.6 average f1 : 0.03132094448836527\n",
      "Fisher 0.4 average f1 : 0.031315372863921824\n"
     ]
    }
   ],
   "source": [
    "dataset = 'tvsum'\n",
    "gt_shot_boundary = h5py.File(f'Data/googlenet/googlenet_{dataset}.h5')\n",
    "\n",
    "dataset_keys = list(gt_shot_boundary.keys())\n",
    "lengths  = [(gt_shot_boundary[key]['n_frames'][...].item()) for key in list(gt_shot_boundary.keys())]\n",
    "\n",
    "indices =g(lengths)\n",
    "googlenet_shots = np.load(f'Reported/Fisher_shot_boundaries_{dataset}.npy',allow_pickle=True)\n",
    "Fishcher_1_f1_scores = []\n",
    "\n",
    "for i,index in enumerate(indices[:10]):\n",
    "    precison, recall, f1 = calculate_metrics(gt_shot_boundary[dataset_keys[index]]['change_points'][...].flatten(),googlenet_shots[i].flatten())\n",
    "    Fishcher_1_f1_scores.append(f1)\n",
    "print(f'Fisher average f1 : {np.mean(Fishcher_1_f1_scores)}')\n",
    "\n",
    "googlenet_shots = np.load(f'Reported/Fisher_shot_boundaries_{dataset}_0.8.npy',allow_pickle=True)\n",
    "Fishcher_0_8_f1_scores = []\n",
    "\n",
    "for i,index in enumerate(indices[:10]):\n",
    "    precison, recall, f1 = calculate_metrics(gt_shot_boundary[dataset_keys[index]]['change_points'][...].flatten(),googlenet_shots[i].flatten())\n",
    "    Fishcher_0_8_f1_scores.append(f1)\n",
    "print(f'Fisher 0.8 average f1 : {np.mean(Fishcher_0_8_f1_scores)}')\n",
    "Fishcher_0_6_f1_scores = []\n",
    "googlenet_shots = np.load(f'Reported/Fisher_shot_boundaries_{dataset}_0.6.npy',allow_pickle=True)\n",
    "for i,index in enumerate(indices[:10]):\n",
    "    precison, recall, f1 = calculate_metrics(gt_shot_boundary[dataset_keys[index]]['change_points'][...].flatten(),googlenet_shots[i].flatten())\n",
    "    Fishcher_0_6_f1_scores.append(f1)\n",
    "print(f'Fisher 0.6 average f1 : {np.mean(Fishcher_0_6_f1_scores)}')\n",
    "\n",
    "Fishcher_0_4_f1_scores = []\n",
    "googlenet_shots = np.load(f'Reported/Fisher_shot_boundaries_{dataset}_0.4.npy',allow_pickle=True)\n",
    "for i,index in enumerate(indices[:10]):\n",
    "    precison, recall, f1 = calculate_metrics(gt_shot_boundary[dataset_keys[index]]['change_points'][...].flatten(),googlenet_shots[i].flatten())\n",
    "    Fishcher_0_4_f1_scores.append(f1)\n",
    "print(f'Fisher 0.4 average f1 : {np.mean(Fishcher_0_4_f1_scores)}')\n",
    "\n",
    "\n",
    "\n",
    "results_dict = {'Vmax 1.0 ':np.mean(Fishcher_1_f1_scores) , 'Vmax 0.8':np.mean(Fishcher_0_8_f1_scores),'Vmax 0.6':np.mean(Fishcher_0_6_f1_scores),'Vmax 0.4':np.mean(Fishcher_0_8_f1_scores)}\n",
    "\n",
    "#json.dump(results_dict,open('Reported/Results/Fisher_Shot_boundary_results.json','w'),indent=4)"
   ]
  },
  {
   "cell_type": "code",
   "execution_count": null,
   "metadata": {},
   "outputs": [],
   "source": []
  }
 ],
 "metadata": {
  "kernelspec": {
   "display_name": ".venv",
   "language": "python",
   "name": "python3"
  },
  "language_info": {
   "codemirror_mode": {
    "name": "ipython",
    "version": 3
   },
   "file_extension": ".py",
   "mimetype": "text/x-python",
   "name": "python",
   "nbconvert_exporter": "python",
   "pygments_lexer": "ipython3",
   "version": "3.10.0"
  },
  "orig_nbformat": 4
 },
 "nbformat": 4,
 "nbformat_minor": 2
}
