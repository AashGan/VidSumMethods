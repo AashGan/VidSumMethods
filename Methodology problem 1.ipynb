{
 "cells": [
  {
   "cell_type": "markdown",
   "metadata": {},
   "source": [
    "# Notebook to demonstrate evaluation divergence of video summarization models \n",
    "\n",
    "Rough approach: take trained model output, see if trained model output diverges "
   ]
  },
  {
   "cell_type": "markdown",
   "metadata": {},
   "source": [
    "# Helper functions and model loading:"
   ]
  },
  {
   "cell_type": "code",
   "execution_count": 1,
   "metadata": {},
   "outputs": [],
   "source": [
    "import h5py \n",
    "import numpy as np \n",
    "import json \n",
    "from Utils import *\n",
    "from Model import model_dict,params_dict\n",
    "import os \n",
    "import torch\n",
    "from Data import VideoData\n",
    "from torch.utils.data import DataLoader\n",
    "import torch.optim as optim\n",
    "from tqdm import tqdm"
   ]
  },
  {
   "cell_type": "code",
   "execution_count": 4,
   "metadata": {},
   "outputs": [],
   "source": [
    " # Should do comparisons of any pred with avg/user annotations \n",
    "def correlation_single_pred(score,video_name,dataset,dataset_name='tvsum',downsample_gt=True):\n",
    "    \"This compares the scores with a downsampled version of the ground truth\"\n",
    "    kendall_spearman_scores = []\n",
    "    if dataset_name==\"tvsum\":\n",
    "        data = load_tvsum_mat('Utils//ydata-tvsum50.mat')\n",
    "        video_number = int(video_name.split('_')[1])\n",
    "        all_user_summary = data[video_number-1]['user_anno'].T\n",
    "        pick = dataset[video_name]['picks']\n",
    "        all_correlations_tau = []\n",
    "        all_correlations_spearman = []\n",
    "        for user_summary in all_user_summary:\n",
    "            if downsample_gt:\n",
    "                down_sampled_summary = (user_summary/user_summary.max())[pick] # Change this to take the picks from which a certain frame was sampled from\n",
    "            else:\n",
    "                down_sampled_summary = (user_summary/user_summary.max())\n",
    "        \n",
    "            correlation_tau = kendalltau(-rankdata(down_sampled_summary),-rankdata(score))[0]\n",
    "            correlation_spear = spearmanr(down_sampled_summary,score)[0]\n",
    "            all_correlations_tau.append(correlation_tau)\n",
    "            all_correlations_spearman.append(correlation_spear)\n",
    "        kendall_spearman_scores.append(np.mean(all_correlations_tau))\n",
    "        kendall_spearman_scores.append(np.mean(all_correlations_spearman))\n",
    "    elif dataset_name ==\"summe\":\n",
    "        user_summarie = dataset[video_name]['user_summary']\n",
    "        pick = dataset[video_name]['picks']\n",
    "        if downsample_gt:\n",
    "            averaged_downsampled_summary = np.average(user_summarie,axis=0)[::15]\n",
    "        else:\n",
    "            averaged_downsampled_summary = np.average(user_summarie,axis=0)\n",
    "        kendall_score = kendalltau(rankdata(averaged_downsampled_summary),rankdata(score))[0]\n",
    "        spearman_score = spearmanr(averaged_downsampled_summary,score)[0]\n",
    "        kendall_spearman_scores.append(np.mean(kendall_score))\n",
    "        kendall_spearman_scores.append(np.mean(spearman_score))\n",
    "    \n",
    "    return kendall_spearman_scores\n",
    "\n",
    "# This should take an Upsampled score, or post knapsack score and then compare the correlation between them\n",
    "def correlation_with_knapsack_scores(score,video_name,dataset):\n",
    "    kendall_spearman_scores = []\n",
    "    avg_correlation_kendall = []\n",
    "    avg_correlation_spearman = []\n",
    "    user_summaries = dataset[video_name]['user_summary'][...]\n",
    "    for user_summary in user_summaries:\n",
    "        avg_correlation_kendall.append(kendalltau(-rankdata(user_summary),-rankdata(score))[0])\n",
    "        avg_correlation_spearman.append(spearmanr(user_summary,score)[0])\n",
    "    kendall_spearman_scores.append(np.mean(avg_correlation_kendall))\n",
    "    kendall_spearman_scores.append(np.mean(avg_correlation_spearman))\n",
    "\n",
    "    return kendall_spearman_scores\n",
    "\n",
    "def correlation_with_average_gt(score,video_name,dataset):\n",
    "    kendall_spearman_scores = []\n",
    "    user_summary = dataset[video_name]['gtscore'][...]\n",
    "    kendall_spearman_scores.append(kendalltau(-rankdata(user_summary),-rankdata(score))[0])\n",
    "    kendall_spearman_scores.append(spearmanr(user_summary,score)[0])\n",
    "\n",
    "    return kendall_spearman_scores\n",
    "\n",
    "\n",
    "def upsample_prediction(score,picks,video_length):\n",
    "    upsampled_pred = np.zeros(video_length)\n",
    "    for i in range(len(picks)-1):\n",
    "        upsampled_pred[picks[i]:picks[i+1]] = score[i]\n",
    "\n",
    "    return upsampled_pred \n",
    "def knapsack_wrapper_with_rating(score,test_index,dataset,dataset_name):\n",
    "    shot_boundaries = dataset[test_index]['change_points'][...]\n",
    "    positions = dataset[test_index]['picks'][...]\n",
    "    n_frames = dataset[test_index]['n_frames'][...]\n",
    "    knapsack_pred = generate_summary_single(shot_boundaries,score,n_frames,positions)\n",
    "    return correlation_single_pred(knapsack_pred,test_index,dataset,dataset_name,False)\n",
    "\n",
    "def knapsack_wrapper_with_post_process(score,test_index,dataset,dataset_name):\n",
    "    shot_boundaries = dataset[test_index]['change_points'][...]\n",
    "    positions = dataset[test_index]['picks'][...]\n",
    "    n_frames = dataset[test_index]['n_frames'][...]\n",
    "    knapsack_pred = generate_summary_single(shot_boundaries,score,n_frames,positions)\n",
    "    return correlation_with_knapsack_scores(knapsack_pred,test_index,dataset)\n",
    "\n",
    "\n",
    "def upsample_wrapper(score,test_index,dataset,dataset_name):\n",
    "    positions = dataset[test_index]['picks'][...]\n",
    "    n_frames = dataset[test_index]['n_frames'][...]\n",
    "    upsampled_pred = upsample_prediction(score,positions,n_frames)\n",
    "    return correlation_single_pred(upsampled_pred,test_index,dataset,dataset_name,False)\n",
    "\n"
   ]
  },
  {
   "cell_type": "code",
   "execution_count": 5,
   "metadata": {},
   "outputs": [],
   "source": [
    "def train(config_path,save_path = 'weights'):\n",
    "    with open(config_path,'r') as config_file:\n",
    "        config = json.load(config_file)\n",
    "    \n",
    "    assert config['Model'] in model_dict.keys(), \"Model is not available, modify dictionary to include them or check spelling\"\n",
    "    dataset_name = config['split'].split(\"_\")[0]\n",
    "    split_string = config['split'].strip(dataset_name).strip('.json')\n",
    "    device = torch.device(\"cuda\" if torch.cuda.is_available() else \"cpu\")\n",
    "    modelclass = model_dict[config['Model']]\n",
    "    criterion = loss_dict[config['loss_function']]()\n",
    "    num_epochs = config[\"num_epochs\"]\n",
    "    feature_extractor = config['feature_extractor']\n",
    "    save_name = f'{feature_extractor}_{dataset_name}{split_string}'\n",
    "    if not os.path.exists(os.path.join(save_path,save_name,dataset_name,config['Model'] )):\n",
    "        os.makedirs(os.path.join(save_path,save_name,dataset_name,config['Model'] ))\n",
    "\n",
    "\n",
    "    save_path = os.path.join(save_path,save_name,dataset_name,config['Model'])\n",
    "\n",
    "\n",
    "    params = params_dict[config['Model']][config['feature_extractor']]\n",
    "\n",
    "    if config['data_aug'] :\n",
    "        #data_augmentations  = [shuffle_dict[data_aug](**config['data_aug'][data_aug]) for data_aug in config['data_aug']]\n",
    "        pass\n",
    "    else:\n",
    "        data_augmentations = []\n",
    "    splits = config['total_splits'] if 'total_splits' in config.keys() else 5\n",
    "    #dataset = h5py.File(config['datapath']+'.h5')\n",
    "    dataset = h5py.File(os.path.join('Data',config['feature_extractor'],f'{config[\"feature_extractor\"]}_{dataset_name}.h5'))\n",
    "    print(params)\n",
    "    split_perfs_1 = []\n",
    "    split_perfs_2 = []\n",
    "    split_perfs_3 = []\n",
    "    split_perfs_4 = []\n",
    "    split_perfs_5 = []\n",
    "    for split in range(splits):\n",
    "        print(f\"Running Split:  {split+1}  for model: {config['Model']}\")\n",
    "        model = modelclass(**params)\n",
    "        batchloader = VideoData('train',config['split'],split,transforms=data_augmentations,feature_extractor=feature_extractor,trainval=True)\n",
    "        batchloader = DataLoader(batchloader,batch_size=1,shuffle=True)\n",
    "        testdata = VideoData('test',config['split'],split,feature_extractor=feature_extractor,trainval=True)\n",
    "        testloader = DataLoader(testdata,batch_size=1,shuffle=False)\n",
    "        optimizer = optim.Adam(model.parameters(), lr=config[\"learning_rate\"],weight_decay=config['reg'])\n",
    "        best_f1_score = -float('inf')\n",
    "        best_correlation = -float('inf')\n",
    "        best_correlation_scenario_2 = -float('inf')\n",
    "        best_correlation_scenario_3 = -float('inf')\n",
    "        best_correlation_scenario_4 = -float('inf')\n",
    "        best_correlation_scenario_5 = -float('inf')\n",
    "        model.to(device)\n",
    "        if 'gradnorm_clip' in config:\n",
    "            gradnorm_clip = config['gradnorm_clip']\n",
    "        else:\n",
    "            gradnorm_clip = 2\n",
    "        # Make the directory for the split if it doesn't exist \n",
    "        if not os.path.exists(os.path.join(save_path,f'split_{split+1}')):\n",
    "            os.mkdir(os.path.join(save_path,f'split_{split+1}'))\n",
    "        save_path_split = os.path.join(save_path,f'split_{split+1}')\n",
    "        for epoch in range(50):\n",
    "            model.train()\n",
    "            running_loss = 0.0\n",
    "            total_samples = 0\n",
    "\n",
    "            for data in tqdm(batchloader, desc=f\"Epoch {epoch+1}/{num_epochs}\", ncols=100):\n",
    "                inputs, labels = data[0].to(device), data[1].to(device)\n",
    "                optimizer.zero_grad()\n",
    "                labels-=labels.min()\n",
    "                labels/=labels.max()\n",
    "                outputs = model(inputs)\n",
    "                if len(outputs.shape)>2:\n",
    "                    outputs = outputs.squeeze(-1)\n",
    "                loss = criterion(outputs, labels)\n",
    "                loss.backward()\n",
    "                torch.nn.utils.clip_grad_norm_(model.parameters(), gradnorm_clip)\n",
    "                optimizer.step()\n",
    "                running_loss += loss.item()\n",
    "                total_samples+=1\n",
    "            epoch_loss = running_loss / len(batchloader)\n",
    "\n",
    "            model.eval()\n",
    "            test_datapoints = []\n",
    "            test_names = []\n",
    "            \n",
    "# Adding the correlation scores to have the picks from the datapoints \n",
    "            print(f\"Compute F1 and Correlation for epoch: {epoch+1}\")\n",
    "            for inputs_t,names in tqdm(testloader,ncols=len(testdata)):\n",
    "                with torch.no_grad():\n",
    "                    importance_scores = model(inputs_t.to(device))\n",
    "                importance_scores = importance_scores[0].to('cpu').tolist()\n",
    "                test_datapoints.append(importance_scores)\n",
    "                test_names.append(names[0])\n",
    "            all_scores = eval_summary(test_datapoints,dataset,test_names,dataset_name)\n",
    "\n",
    "            #TODO: At this point add the scenario scorring, basically do each operation to add to the scenario list \n",
    "\n",
    "\n",
    "            correlation_dict = evaluate_correlation(test_datapoints ,dataset,test_names,dataset_name)\n",
    "            scenario_2 = [knapsack_wrapper_with_rating(score,test_name,dataset,dataset_name) for score,test_name in zip(test_datapoints,test_names)]\n",
    "            scenario_3 = [knapsack_wrapper_with_post_process(score,test_name,dataset,dataset_name) for score,test_name in zip(test_datapoints,test_names)]\n",
    "            scenario_4 = [upsample_wrapper(score,test_name,dataset,dataset_name) for score,test_name in zip(test_datapoints,test_names)] # Eaach of these is one \n",
    "            scenario_5 = [correlation_with_average_gt(score,test_name,dataset) for score,test_name in zip(test_datapoints,test_names)] \n",
    "            if correlation_dict['Average_Kendall']> best_correlation:    \n",
    "                print(f\"Saving epoch {epoch+1}\")\n",
    "                best_correlation = correlation_dict['Average_Kendall']\n",
    "                #torch.save(model.state_dict(), os.path.join(save_path_split,\"best_run_corr\" + \".pth\")) \n",
    "            if np.mean(np.array(scenario_2)[:,0]) > best_correlation_scenario_2:\n",
    "                best_correlation_scenario_2  = np.mean(np.array(scenario_2)[:,0])\n",
    "            if np.mean(np.array(scenario_3)[:,0]) > best_correlation_scenario_3:\n",
    "                best_correlation_scenario_3  = np.mean(np.array(scenario_3)[:,0])\n",
    "            if np.mean(np.array(scenario_4)[:,0]) > best_correlation_scenario_4:\n",
    "                best_correlation_scenario_4  = np.mean(np.array(scenario_4)[:,0])\n",
    "            if np.mean(np.array(scenario_5)[:,0]) > best_correlation_scenario_5:\n",
    "                best_correlation_scenario_5  = np.mean(np.array(scenario_5)[:,0])\n",
    "            \n",
    "            \n",
    "            if np.mean(all_scores).item() > best_f1_score:\n",
    "                best_f1_score = np.mean(all_scores).item()\n",
    "                print(f\"Best F1 Score:  {epoch+1}: {best_f1_score} \")\n",
    "                #torch.save(model.state_dict(), os.path.join(save_path_split,\"best_run_f1\" + \".pth\"))\n",
    "\n",
    "        print(f'Best F1 score for split {split+1}: {best_f1_score} ')\n",
    "        print(f'Best Correlation for split {split+1}: {best_correlation} ')\n",
    "        print(f'Best Correlation of split {split+1}for Scenario 2: {best_correlation_scenario_2} ')\n",
    "        print(f'Best Correlation of split {split+1}for Scenario 3: {best_correlation_scenario_3} ')\n",
    "        print(f'Best Correlation of split {split+1}for Scenario 4: {best_correlation_scenario_4} ')\n",
    "        split_perfs_1.append(best_correlation)\n",
    "        split_perfs_2.append(best_correlation_scenario_2)\n",
    "        split_perfs_3.append(best_correlation_scenario_3)\n",
    "        split_perfs_4.append(best_correlation_scenario_4)\n",
    "        split_perfs_5.append(best_correlation_scenario_5)\n",
    "\n",
    "    print('Completed Training')\n",
    "    return np.mean(split_perfs_1),np.mean(split_perfs_2),np.mean(split_perfs_3),np.mean(split_perfs_4),np.mean(split_perfs_5)"
   ]
  },
  {
   "cell_type": "code",
   "execution_count": null,
   "metadata": {},
   "outputs": [],
   "source": [
    "ten_trial_scenario_1 = []\n",
    "ten_trial_scenario_2 = []\n",
    "ten_trial_scenario_3 = []\n",
    "ten_trial_scenario_4 = []\n",
    "ten_trial_scenario_5 = []\n",
    "for i in range(5):\n",
    "    best_correlation,best_correlation_scenario_2,best_correlation_scenario_3,best_correlation_scenario_4,best_correlation_scenario_5  = train('Configs/LSTM/resnet_tvsum_can_1.json')\n",
    "    ten_trial_scenario_1.append(best_correlation)\n",
    "    ten_trial_scenario_2.append(best_correlation_scenario_2)\n",
    "    ten_trial_scenario_3.append(best_correlation_scenario_3)\n",
    "    ten_trial_scenario_4.append(best_correlation_scenario_4)\n",
    "    ten_trial_scenario_5.append(best_correlation_scenario_5)"
   ]
  },
  {
   "cell_type": "code",
   "execution_count": 7,
   "metadata": {},
   "outputs": [
    {
     "name": "stdout",
     "output_type": "stream",
     "text": [
      "0.17770541498528364\n",
      "0.1159564515666821\n",
      "0.5142722878358239\n",
      "0.18433339678359412\n",
      "0.3155558876638479\n"
     ]
    }
   ],
   "source": [
    "print(np.mean(ten_trial_scenario_1))\n",
    "print(np.mean(ten_trial_scenario_2))\n",
    "print(np.mean(ten_trial_scenario_3))\n",
    "print(np.mean(ten_trial_scenario_4))\n",
    "print(np.mean(ten_trial_scenario_5))"
   ]
  },
  {
   "cell_type": "code",
   "execution_count": 8,
   "metadata": {},
   "outputs": [
    {
     "data": {
      "text/plain": [
       "5"
      ]
     },
     "execution_count": 8,
     "metadata": {},
     "output_type": "execute_result"
    }
   ],
   "source": [
    "len(ten_trial_scenario_1)"
   ]
  },
  {
   "cell_type": "code",
   "execution_count": 9,
   "metadata": {},
   "outputs": [
    {
     "name": "stdout",
     "output_type": "stream",
     "text": [
      "3.5206572776631505e-06\n",
      "7.772500740938329e-07\n",
      "3.0345162031782436e-06\n",
      "2.933383406825805e-06\n",
      "1.8164328216496344e-05\n"
     ]
    }
   ],
   "source": [
    "print(np.var(ten_trial_scenario_1))\n",
    "print(np.var(ten_trial_scenario_2))\n",
    "print(np.var(ten_trial_scenario_3))\n",
    "print(np.var(ten_trial_scenario_4))\n",
    "print(np.var(ten_trial_scenario_5))"
   ]
  },
  {
   "cell_type": "code",
   "execution_count": null,
   "metadata": {},
   "outputs": [],
   "source": [
    "ten_trial_scenario_1 = []\n",
    "ten_trial_scenario_2 = []\n",
    "ten_trial_scenario_3 = []\n",
    "ten_trial_scenario_4 = []\n",
    "ten_trial_scenario_5 = []\n",
    "for i in range(5):\n",
    "    best_correlation,best_correlation_scenario_2,best_correlation_scenario_3,best_correlation_scenario_4,best_correlation_scenario_5  = train('Configs/LSTM/resnet_summe_can_1.json')\n",
    "    ten_trial_scenario_1.append(best_correlation)\n",
    "    ten_trial_scenario_2.append(best_correlation_scenario_2)\n",
    "    ten_trial_scenario_3.append(best_correlation_scenario_3)\n",
    "    ten_trial_scenario_4.append(best_correlation_scenario_4)\n",
    "    ten_trial_scenario_5.append(best_correlation_scenario_5)"
   ]
  },
  {
   "cell_type": "code",
   "execution_count": 12,
   "metadata": {},
   "outputs": [
    {
     "name": "stdout",
     "output_type": "stream",
     "text": [
      "0.07220610168079519\n",
      "0.17429175337627223\n",
      "0.1063390633150213\n",
      "0.07808752350819474\n",
      "0.07220610168079519\n"
     ]
    }
   ],
   "source": [
    "print(np.mean(ten_trial_scenario_1))\n",
    "print(np.mean(ten_trial_scenario_2))\n",
    "print(np.mean(ten_trial_scenario_3))\n",
    "print(np.mean(ten_trial_scenario_4))\n",
    "print(np.mean(ten_trial_scenario_5))"
   ]
  },
  {
   "cell_type": "code",
   "execution_count": null,
   "metadata": {},
   "outputs": [],
   "source": [
    "print(np.var(ten_trial_scenario_1))\n",
    "print(np.var(ten_trial_scenario_2))\n",
    "print(np.var(ten_trial_scenario_3))\n",
    "print(np.var(ten_trial_scenario_4))\n",
    "print(np.var(ten_trial_scenario_5))"
   ]
  },
  {
   "cell_type": "code",
   "execution_count": null,
   "metadata": {},
   "outputs": [],
   "source": [
    "ten_trial_scenario_1 = []\n",
    "ten_trial_scenario_2 = []\n",
    "ten_trial_scenario_3 = []\n",
    "ten_trial_scenario_4 = []\n",
    "ten_trial_scenario_5 = []\n",
    "for i in range(10):\n",
    "    best_correlation,best_correlation_scenario_2,best_correlation_scenario_3,best_correlation_scenario_4,best_correlation_scenario_5  = train('Configs/LSTM/resnet_summe_can_1.json')\n",
    "    ten_trial_scenario_1.append(best_correlation)\n",
    "    ten_trial_scenario_2.append(best_correlation_scenario_2)\n",
    "    ten_trial_scenario_3.append(best_correlation_scenario_3)\n",
    "    ten_trial_scenario_4.append(best_correlation_scenario_4)\n",
    "    ten_trial_scenario_5.append(best_correlation_scenario_5)"
   ]
  },
  {
   "cell_type": "markdown",
   "metadata": {},
   "source": [
    "Testing before main experiment      "
   ]
  },
  {
   "cell_type": "code",
   "execution_count": 39,
   "metadata": {},
   "outputs": [],
   "source": [
    "split_level_scenario_1 = []\n",
    "split_level_scenario_2 = []\n",
    "split_level_scenario_3 = []\n",
    "split_level_scenario_4 = []\n",
    "dataset = h5py.File('Data/original/googlenet_tvsum.h5')\n",
    "test_split = json.load(open('Splits/tvsum_can_1.json'))\n",
    "model_outputs = json.load(open('SensitivityExpt/tvsum/outputs.json'))\n",
    "for i in range(5):\n",
    "\n",
    "    test_split_index = test_split[i]['test_keys']\n",
    "    scenario_1 = []\n",
    "    scenario_2 = []\n",
    "    scenario_3 = []\n",
    "    scenario_4 = []\n",
    "    for test_ind in test_split_index:\n",
    "        test_index = test_ind.split('/')[1]\n",
    "        shot_boundaries = dataset[test_index]['change_points'][...]\n",
    "        scores = model_outputs[test_index] \n",
    "        positions = dataset[test_index]['picks'][...]\n",
    "        n_frames = dataset[test_index]['n_frames'][...]\n",
    "        user_summaries = dataset[test_index]['user_summary'][...]\n",
    "        post_knapsack_pred = generate_summary_single(shot_boundaries,scores,n_frames,positions)\n",
    "        upsampled_pred = upsample_prediction(scores,positions,n_frames)\n",
    "        correlation_scores = correlation_single_pred(scores,test_index,dataset,'tvsum')\n",
    "        scenario_1.append(correlation_scores)\n",
    "        correlation_scores = correlation_single_pred(post_knapsack_pred,test_index,dataset,'tvsum',False)\n",
    "        scenario_2.append(correlation_scores)\n",
    "        correlation_scores = correlation_with_knapsack_scores(post_knapsack_pred,test_index,dataset)\n",
    "        scenario_3.append(correlation_scores)\n",
    "        correlation_scores = correlation_with_knapsack_scores(upsampled_pred,test_index,dataset)\n",
    "        scenario_4.append(correlation_scores)\n",
    "    split_level_scenario_1.append(np.mean(np.array(scenario_1)[:,0]))\n",
    "    split_level_scenario_2.append(np.mean(np.array(scenario_2)[:,0]))\n",
    "    split_level_scenario_3.append(np.mean(np.array(scenario_3)[:,0]))\n",
    "    split_level_scenario_4.append(np.mean(np.array(scenario_4)[:,0]))"
   ]
  },
  {
   "cell_type": "code",
   "execution_count": 40,
   "metadata": {},
   "outputs": [
    {
     "name": "stdout",
     "output_type": "stream",
     "text": [
      "Tvsum scenario performances\n",
      "Scenario 1: 0.14835575709395488\n",
      "Scenario 2: 0.09762647121752868\n",
      "Scenario 3: 0.448509825824967\n",
      "Scenario 4: 0.09768388242721733\n"
     ]
    }
   ],
   "source": [
    "print('Tvsum scenario performances')\n",
    "print(f'Scenario 1: {np.mean(split_level_scenario_1)}')\n",
    "print(f'Scenario 2: {np.mean(split_level_scenario_2)}')\n",
    "print(f'Scenario 3: {np.mean(split_level_scenario_3)}')\n",
    "print(f'Scenario 4: {np.mean(split_level_scenario_4)}')"
   ]
  },
  {
   "cell_type": "code",
   "execution_count": 52,
   "metadata": {},
   "outputs": [],
   "source": [
    "# Note: SumMe's results are taken from the best f1 score to simulate the scenario better\n",
    "split_level_scenario_1 = []\n",
    "split_level_scenario_2 = []\n",
    "split_level_scenario_3 = []\n",
    "split_level_scenario_4 = []\n",
    "dataset = h5py.File('Data/original/googlenet_summe.h5')\n",
    "test_split = json.load(open('Splits/summe_can_1.json'))\n",
    "model_outputs = json.load(open('SensitivityExpt/summe/outputs.json'))\n",
    "for i in range(5):\n",
    "\n",
    "    test_split_index = test_split[i]['test_keys']\n",
    "    scenario_1 = []\n",
    "    scenario_2 = []\n",
    "    scenario_3 = []\n",
    "    scenario_4 = []\n",
    "    for test_ind in test_split_index:\n",
    "        test_index = test_ind.split('/')[1]\n",
    "        shot_boundaries = dataset[test_index]['change_points'][...]\n",
    "        scores = model_outputs[test_index] \n",
    "        positions = dataset[test_index]['picks'][...]\n",
    "        n_frames = dataset[test_index]['n_frames'][...]\n",
    "        user_summaries = dataset[test_index]['user_summary'][...]\n",
    "        post_knapsack_pred = generate_summary_single(shot_boundaries,scores,n_frames,positions)\n",
    "        upsampled_pred = upsample_prediction(scores,positions,n_frames)\n",
    "        correlation_scores = correlation_single_pred(scores,test_index,dataset,'summe')\n",
    "        scenario_1.append(correlation_scores)\n",
    "        correlation_scores = correlation_single_pred(post_knapsack_pred,test_index,dataset,'summe',False)\n",
    "        scenario_2.append(correlation_scores)\n",
    "        correlation_scores = correlation_with_knapsack_scores(post_knapsack_pred,test_index,dataset)\n",
    "        scenario_3.append(correlation_scores)\n",
    "        correlation_scores = correlation_with_knapsack_scores(upsampled_pred,test_index,dataset)\n",
    "        scenario_4.append(correlation_scores)\n",
    "    split_level_scenario_1.append(np.mean(np.array(scenario_1)[:,0]))\n",
    "    split_level_scenario_2.append(np.mean(np.array(scenario_2)[:,0]))\n",
    "    split_level_scenario_3.append(np.mean(np.array(scenario_3)[:,0]))\n",
    "    split_level_scenario_4.append(np.mean(np.array(scenario_4)[:,0]))"
   ]
  },
  {
   "cell_type": "code",
   "execution_count": 54,
   "metadata": {},
   "outputs": [
    {
     "name": "stdout",
     "output_type": "stream",
     "text": [
      "SumMe scenario performances\n",
      "Scenario 1: 0.01714054856509108\n",
      "Scenario 2: 0.11614957618222801\n",
      "Scenario 3: 0.07106050549293787\n",
      "Scenario 4: 0.0046129539971289735\n"
     ]
    }
   ],
   "source": [
    "print('SumMe scenario performances')\n",
    "print(f'Scenario 1: {np.mean(split_level_scenario_1)}')\n",
    "print(f'Scenario 2: {np.mean(split_level_scenario_2)}')\n",
    "print(f'Scenario 3: {np.mean(split_level_scenario_3)}')\n",
    "print(f'Scenario 4: {np.mean(split_level_scenario_4)}')"
   ]
  },
  {
   "cell_type": "code",
   "execution_count": 50,
   "metadata": {},
   "outputs": [],
   "source": [
    "dataset = h5py.File('Data/original/googlenet_tvsum.h5')\n",
    "test_split = json.load(open('Splits/tvsum_can_1.json'))\n",
    "test_split_index = test_split[0]['test_keys']\n",
    "test_index = 'video_6'\n",
    "model_outputs = json.load(open('SensitivityExpt/Attention/Output/outputs.json'))\n",
    "user_summaries = dataset[test_index]['user_summary'][...]\n",
    "shot_boundaries = dataset[test_index]['change_points'][...]\n",
    "scores = model_outputs[test_index] \n",
    "positions = dataset[test_index]['picks'][...]\n",
    "n_frames = dataset[test_index]['n_frames'][...]\n",
    "post_knapsack_pred = generate_summary_single(shot_boundaries,scores,n_frames,positions)\n",
    "upsampled_pred = upsample_prediction(scores,positions,n_frames)\n"
   ]
  },
  {
   "cell_type": "code",
   "execution_count": 21,
   "metadata": {},
   "outputs": [],
   "source": [
    "import matplotlib.pyplot as plt"
   ]
  },
  {
   "cell_type": "code",
   "execution_count": 48,
   "metadata": {},
   "outputs": [
    {
     "data": {
      "text/plain": [
       "[<matplotlib.lines.Line2D at 0x265bbc516a0>]"
      ]
     },
     "execution_count": 48,
     "metadata": {},
     "output_type": "execute_result"
    },
    {
     "data": {
      "image/png": "[encoded data removed]",
      "text/plain": [
       "<Figure size 640x480 with 1 Axes>"
      ]
     },
     "metadata": {},
     "output_type": "display_data"
    }
   ],
   "source": [
    "plt.plot(scores)"
   ]
  },
  {
   "cell_type": "code",
   "execution_count": 49,
   "metadata": {},
   "outputs": [
    {
     "data": {
      "text/plain": [
       "[<matplotlib.lines.Line2D at 0x265bab915b0>]"
      ]
     },
     "execution_count": 49,
     "metadata": {},
     "output_type": "execute_result"
    },
    {
     "data": {
      "image/png": "[encoded data removed]",
      "text/plain": [
       "<Figure size 640x480 with 1 Axes>"
      ]
     },
     "metadata": {},
     "output_type": "display_data"
    }
   ],
   "source": [
    "plt.plot(upsampled_pred)"
   ]
  },
  {
   "cell_type": "code",
   "execution_count": null,
   "metadata": {},
   "outputs": [],
   "source": [
    "dataset[test_index]['picks'][...]"
   ]
  },
  {
   "cell_type": "code",
   "execution_count": 52,
   "metadata": {},
   "outputs": [
    {
     "name": "stdout",
     "output_type": "stream",
     "text": [
      "Evaluating Correlation with Downsampled prediction and 0 to 1 scores\n",
      "Kendall scores:  0.25025294614714755\n",
      "Evaluating scores with Post knapsack Processing and 0 to 1 scores\n",
      "Kendall scores:  0.15057929969664877\n",
      "Evaluating upsampled predictions with 0/1 selection annotations\n",
      "Kendall scores:  0.5810825475029358\n",
      "Evaluating scores with Post knapsack Processing  with 0/1 selection annotations \n",
      "Kendall scores:  0.11422450160324012\n",
      "Evaluating Correlation with Downsampled prediction and 0 to 1 scores\n",
      "Kendall scores:  0.25172516396331124\n",
      "Evaluating scores with Post knapsack Processing and 0 to 1 scores\n",
      "Kendall scores:  0.2437371200199751\n",
      "Evaluating upsampled predictions with 0/1 selection annotations\n",
      "Kendall scores:  0.5105127071920069\n",
      "Evaluating scores with Post knapsack Processing  with 0/1 selection annotations \n",
      "Kendall scores:  0.20476500126322056\n",
      "Evaluating Correlation with Downsampled prediction and 0 to 1 scores\n",
      "Kendall scores:  0.21981649518605623\n",
      "Evaluating scores with Post knapsack Processing and 0 to 1 scores\n",
      "Kendall scores:  0.07641127339475876\n",
      "Evaluating upsampled predictions with 0/1 selection annotations\n",
      "Kendall scores:  0.4103731645978237\n",
      "Evaluating scores with Post knapsack Processing  with 0/1 selection annotations \n",
      "Kendall scores:  0.14307365298180358\n",
      "Evaluating Correlation with Downsampled prediction and 0 to 1 scores\n",
      "Kendall scores:  0.09481866410226644\n",
      "Evaluating scores with Post knapsack Processing and 0 to 1 scores\n",
      "Kendall scores:  0.062260878998296\n",
      "Evaluating upsampled predictions with 0/1 selection annotations\n",
      "Kendall scores:  0.34000710672017254\n",
      "Evaluating scores with Post knapsack Processing  with 0/1 selection annotations \n",
      "Kendall scores:  -0.02945543063154361\n",
      "Evaluating Correlation with Downsampled prediction and 0 to 1 scores\n",
      "Kendall scores:  0.012372066196353242\n",
      "Evaluating scores with Post knapsack Processing and 0 to 1 scores\n",
      "Kendall scores:  0.012144069383753866\n",
      "Evaluating upsampled predictions with 0/1 selection annotations\n",
      "Kendall scores:  0.5429430635437915\n",
      "Evaluating scores with Post knapsack Processing  with 0/1 selection annotations \n",
      "Kendall scores:  -0.06659758678231541\n",
      "Evaluating Correlation with Downsampled prediction and 0 to 1 scores\n",
      "Kendall scores:  0.10346730320445167\n",
      "Evaluating scores with Post knapsack Processing and 0 to 1 scores\n",
      "Kendall scores:  0.038708052762963345\n",
      "Evaluating upsampled predictions with 0/1 selection annotations\n",
      "Kendall scores:  0.5223041659139238\n",
      "Evaluating scores with Post knapsack Processing  with 0/1 selection annotations \n",
      "Kendall scores:  0.002371381552424312\n",
      "Evaluating Correlation with Downsampled prediction and 0 to 1 scores\n",
      "Kendall scores:  -0.028895358580330637\n",
      "Evaluating scores with Post knapsack Processing and 0 to 1 scores\n",
      "Kendall scores:  0.03241111517485666\n",
      "Evaluating upsampled predictions with 0/1 selection annotations\n",
      "Kendall scores:  0.35298557715056056\n",
      "Evaluating scores with Post knapsack Processing  with 0/1 selection annotations \n",
      "Kendall scores:  -0.05421119375728471\n",
      "Evaluating Correlation with Downsampled prediction and 0 to 1 scores\n",
      "Kendall scores:  0.28895801551541667\n",
      "Evaluating scores with Post knapsack Processing and 0 to 1 scores\n",
      "Kendall scores:  0.09554841512724789\n",
      "Evaluating upsampled predictions with 0/1 selection annotations\n",
      "Kendall scores:  0.3847709611420792\n",
      "Evaluating scores with Post knapsack Processing  with 0/1 selection annotations \n",
      "Kendall scores:  0.16500631178306482\n",
      "Evaluating Correlation with Downsampled prediction and 0 to 1 scores\n",
      "Kendall scores:  0.1618117315640136\n",
      "Evaluating scores with Post knapsack Processing and 0 to 1 scores\n",
      "Kendall scores:  0.10207122786003187\n",
      "Evaluating upsampled predictions with 0/1 selection annotations\n",
      "Kendall scores:  0.6177086910965197\n",
      "Evaluating scores with Post knapsack Processing  with 0/1 selection annotations \n",
      "Kendall scores:  0.1707604556089999\n",
      "Evaluating Correlation with Downsampled prediction and 0 to 1 scores\n",
      "Kendall scores:  0.07832271914472413\n",
      "Evaluating scores with Post knapsack Processing and 0 to 1 scores\n",
      "Kendall scores:  0.05646534306576347\n",
      "Evaluating upsampled predictions with 0/1 selection annotations\n",
      "Kendall scores:  0.456691077524723\n",
      "Evaluating scores with Post knapsack Processing  with 0/1 selection annotations \n",
      "Kendall scores:  0.1470280424926246\n"
     ]
    }
   ],
   "source": [
    "dataset = h5py.File('Data/original/googlenet_tvsum.h5')\n",
    "test_split = json.load(open('Splits/tvsum_can_1.json'))\n",
    "test_split_index = test_split[0]['test_keys']\n",
    "\n",
    "model_outputs = json.load(open('SensitivityExpt/Attention/Output/outputs.json'))\n",
    "scenario_1 =[]\n",
    "scenario_2 = []\n",
    "scenario_3 = []\n",
    "scenario_4  = []\n",
    "for test_ind in test_split_index:\n",
    "    test_index = test_ind.split('/')[1]\n",
    "    shot_boundaries = dataset[test_index]['change_points'][...]\n",
    "    scores = model_outputs[test_index] \n",
    "    positions = dataset[test_index]['picks'][...]\n",
    "    n_frames = dataset[test_index]['n_frames'][...]\n",
    "    user_summaries = dataset[test_index]['user_summary'][...]\n",
    "    post_knapsack_pred = generate_summary_single(shot_boundaries,scores,n_frames,positions)\n",
    "    upsampled_pred = upsample_prediction(scores,positions,n_frames)\n",
    "    print('Evaluating Correlation with Downsampled prediction and 0 to 1 scores')\n",
    "    correlation_scores = correlation_single_pred(scores,test_index,dataset,'tvsum')\n",
    "    print(f'Kendall scores:  {correlation_scores[0]}')\n",
    "    scenario_1.append(correlation_scores)\n",
    "    print('Evaluating scores with Post knapsack Processing and 0 to 1 scores')\n",
    "    correlation_scores = correlation_single_pred(post_knapsack_pred,test_index,dataset,'tvsum',False)\n",
    "    print(f'Kendall scores:  {correlation_scores[0]}')\n",
    "    scenario_2.append(correlation_scores)\n",
    "    print('Evaluating upsampled predictions with 0/1 selection annotations')\n",
    "    correlation_scores = correlation_with_knapsack_scores(post_knapsack_pred,test_index,dataset)\n",
    "    print(f'Kendall scores:  {correlation_scores[0]}')\n",
    "    scenario_3.append(correlation_scores)\n",
    "    print('Evaluating scores with Post knapsack Processing  with 0/1 selection annotations ')\n",
    "    correlation_scores = correlation_with_knapsack_scores(upsampled_pred,test_index,dataset)\n",
    "    print(f'Kendall scores:  {correlation_scores[0]}')\n",
    "    scenario_4.append(correlation_scores)\n",
    "    \n",
    "\n",
    "    # Comparing correlation between the scores and the predictions directly \n",
    "\n",
    "    "
   ]
  },
  {
   "cell_type": "code",
   "execution_count": 53,
   "metadata": {},
   "outputs": [
    {
     "data": {
      "text/plain": [
       "(10, 2)"
      ]
     },
     "execution_count": 53,
     "metadata": {},
     "output_type": "execute_result"
    }
   ],
   "source": [
    "np.array(scenario_1).shape"
   ]
  },
  {
   "cell_type": "code",
   "execution_count": 54,
   "metadata": {},
   "outputs": [
    {
     "name": "stdout",
     "output_type": "stream",
     "text": [
      "Scenario 1 scores : 0.14326497464434101\n"
     ]
    }
   ],
   "source": [
    "print(f'Scenario 1 scores : {np.mean(np.array(scenario_1)[:,0])}')\n"
   ]
  },
  {
   "cell_type": "code",
   "execution_count": 55,
   "metadata": {},
   "outputs": [
    {
     "name": "stdout",
     "output_type": "stream",
     "text": [
      "Scenario 1 scores : 0.1656474730197641\n",
      "Scenario 2 scores : 0.09043783376504279\n",
      "Scenario 3 scores : 0.4719379062384538\n",
      "Scenario 4 scores : 0.08857751469513639\n"
     ]
    }
   ],
   "source": [
    "print(f'Scenario 1 scores : {np.mean(scenario_1)}')\n",
    "print(f'Scenario 2 scores : {np.mean(scenario_2)}')\n",
    "print(f'Scenario 3 scores : {np.mean(scenario_3)}')\n",
    "print(f'Scenario 4 scores : {np.mean(scenario_4)}')\n"
   ]
  },
  {
   "cell_type": "markdown",
   "metadata": {},
   "source": [
    "Training example of different scenario performance"
   ]
  },
  {
   "cell_type": "markdown",
   "metadata": {},
   "source": []
  }
 ],
 "metadata": {
  "kernelspec": {
   "display_name": "venv",
   "language": "python",
   "name": "python3"
  },
  "language_info": {
   "codemirror_mode": {
    "name": "ipython",
    "version": 3
   },
   "file_extension": ".py",
   "mimetype": "text/x-python",
   "name": "python",
   "nbconvert_exporter": "python",
   "pygments_lexer": "ipython3",
   "version": "3.7.9"
  }
 },
 "nbformat": 4,
 "nbformat_minor": 2
}
